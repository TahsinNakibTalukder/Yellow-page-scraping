{
 "cells": [
  {
   "cell_type": "code",
   "execution_count": 151,
   "metadata": {},
   "outputs": [],
   "source": [
    "import requests\n",
    "from bs4 import BeautifulSoup \n",
    "import pandas as pd\n",
    "import time"
   ]
  },
  {
   "cell_type": "code",
   "execution_count": 152,
   "metadata": {},
   "outputs": [],
   "source": [
    "total_list = []"
   ]
  },
  {
   "cell_type": "code",
   "execution_count": 153,
   "metadata": {},
   "outputs": [],
   "source": [
    "def extract(url):\n",
    "    headers = {'User-Agent': 'Mozilla/5.0 (Macintosh; Intel Mac OS X 10_13_4) AppleWebKit/537.36 (KHTML, like Gecko) Chrome/86.0.4240.198 Safari/537.36'}\n",
    "    r = requests.get(url, headers=headers)\n",
    "    soup = BeautifulSoup(r.content, 'html.parser')\n",
    "    return soup.find_all('div', class_= 'row businessCapsule--mainRow')\n",
    "    "
   ]
  },
  {
   "cell_type": "code",
   "execution_count": null,
   "metadata": {},
   "outputs": [],
   "source": []
  },
  {
   "cell_type": "code",
   "execution_count": null,
   "metadata": {},
   "outputs": [],
   "source": []
  },
  {
   "cell_type": "code",
   "execution_count": 154,
   "metadata": {},
   "outputs": [],
   "source": [
    "def transform(articles):\n",
    "    \n",
    "    for item in articles:\n",
    "        name = item.find('span', class_= 'businessCapsule--name').text\n",
    "        address = item.find('span', {'itemprop' : 'address'}).text.strip().replace('\\n', '')\n",
    "        try:\n",
    "            website = item.find('a', class_='btn btn-yellow businessCapsule--ctaItem')['href']\n",
    "        except:\n",
    "            website = ''\n",
    "        try:\n",
    "            tel = item.find('span', class_='business--telephoneNumber').text.strip()\n",
    "        except:\n",
    "            tel = ''\n",
    "\n",
    "        business = {\n",
    "            'name' : name,\n",
    "            'address': address,\n",
    "            'website': website,\n",
    "            'tel' : tel    \n",
    "        }\n",
    "\n",
    "        total_list.append(business)\n",
    "    return"
   ]
  },
  {
   "cell_type": "code",
   "execution_count": 155,
   "metadata": {},
   "outputs": [],
   "source": [
    "def load():\n",
    "    df = pd.DataFrame(total_list)\n",
    "    df.to_csv('pizza_london.csv', index=False)"
   ]
  },
  {
   "cell_type": "code",
   "execution_count": 156,
   "metadata": {},
   "outputs": [
    {
     "name": "stdout",
     "output_type": "stream",
     "text": [
      "Getting page 1\n",
      "Getting page 2\n",
      "Getting page 3\n",
      "Getting page 4\n"
     ]
    }
   ],
   "source": [
    "for x in range (1,5):\n",
    "    print(f'Getting page {x}')\n",
    "    articles = extract(f'https://www.yell.com/ucs/UcsSearchAction.do?keywords=Pizza&location=London&scrambleSeed=1283856548&pageNum={x}')\n",
    "    transform(articles)\n",
    "    time.sleep(5)"
   ]
  },
  {
   "cell_type": "code",
   "execution_count": null,
   "metadata": {},
   "outputs": [],
   "source": []
  },
  {
   "cell_type": "code",
   "execution_count": 157,
   "metadata": {},
   "outputs": [
    {
     "name": "stdout",
     "output_type": "stream",
     "text": [
      "Save to csv\n"
     ]
    }
   ],
   "source": [
    "load()\n",
    "print('Save to csv')"
   ]
  },
  {
   "cell_type": "code",
   "execution_count": null,
   "metadata": {},
   "outputs": [],
   "source": []
  },
  {
   "cell_type": "code",
   "execution_count": null,
   "metadata": {},
   "outputs": [],
   "source": []
  },
  {
   "cell_type": "code",
   "execution_count": null,
   "metadata": {},
   "outputs": [],
   "source": []
  }
 ],
 "metadata": {
  "kernelspec": {
   "display_name": "Python 3",
   "language": "python",
   "name": "python3"
  },
  "language_info": {
   "codemirror_mode": {
    "name": "ipython",
    "version": 3
   },
   "file_extension": ".py",
   "mimetype": "text/x-python",
   "name": "python",
   "nbconvert_exporter": "python",
   "pygments_lexer": "ipython3",
   "version": "3.8.3"
  }
 },
 "nbformat": 4,
 "nbformat_minor": 4
}
